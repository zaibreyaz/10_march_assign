{
 "cells": [
  {
   "cell_type": "code",
   "execution_count": null,
   "id": "17b750ab-1bf3-408c-ad5b-652cca301d67",
   "metadata": {},
   "outputs": [],
   "source": [
    "\"\"\"Q1: What is Estimation Statistics? Explain point estimate and interval estimate.\n",
    "\n",
    "    Ans: Estimation statistics is a branch of statistics that deals with making informed guesses or approximations about population parameters based on sample data. \n",
    "         Point estimate is a single value that serves as an approximation for a population parameter. Interval estimate is a range of values that is likely to contain \n",
    "         the population parameter, based on the sample data and a chosen level of confidence.\n",
    "\"\"\""
   ]
  },
  {
   "cell_type": "code",
   "execution_count": 2,
   "id": "31e8ffbd-98a1-4b63-8d60-1df9185215bb",
   "metadata": {},
   "outputs": [
    {
     "data": {
      "text/plain": [
       "(180, (174.45628283549746, 185.54371716450254))"
      ]
     },
     "execution_count": 2,
     "metadata": {},
     "output_type": "execute_result"
    }
   ],
   "source": [
    "\"\"\"Q2. Write a Python function to estimate the population mean using a sample mean and standard\n",
    "deviation.\"\"\"\n",
    "\n",
    "import math\n",
    "\n",
    "def estimate_population_mean(sample_mean, sample_std_dev, sample_size):\n",
    "    \n",
    "    standard_error = sample_std_dev / math.sqrt(sample_size)\n",
    "    \n",
    "    # Calculate the margin of error (using a 95% confidence interval)\n",
    "#     Z score is 1.96\n",
    "    margin_of_error = 1.96 * standard_error\n",
    "    \n",
    "    lower_bound = sample_mean - margin_of_error\n",
    "    upper_bound = sample_mean + margin_of_error\n",
    "    \n",
    "    return (sample_mean, (lower_bound, upper_bound))\n",
    "\n",
    "mean, conf_interval = estimate_population_mean(180, 20, 50)\n",
    "mean, conf_interval"
   ]
  },
  {
   "cell_type": "code",
   "execution_count": null,
   "id": "6f503554-2280-409e-98cc-1c7befc37d4f",
   "metadata": {},
   "outputs": [],
   "source": [
    "\"\"\"Q3: What is Hypothesis testing? Why is it used? State the importance of Hypothesis testing.\n",
    "\n",
    "    Ans: Hypothesis testing is a statistical method used to determine whether a hypothesis about a population parameter is supported by the sample data. \n",
    "         It involves setting up a null hypothesis (no effect or difference) and an alternative hypothesis (some effect or difference), collecting data, \n",
    "         and using statistical tests to determine the likelihood of the null hypothesis being true. Hypothesis testing is important because it allows \n",
    "         researchers to make conclusions about a population based on sample data, while accounting for the possibility of random variation and errors in the data.\n",
    "\"\"\""
   ]
  },
  {
   "cell_type": "code",
   "execution_count": null,
   "id": "b13d736b-b9ae-4d8d-9760-5612b3c9cee4",
   "metadata": {},
   "outputs": [],
   "source": [
    "\"\"\"Q4. Create a hypothesis that states whether the average weight of male college students is greater than\n",
    "the average weight of female college students.\n",
    "\n",
    "    Ans: Null hypothesis (H0): The average weight of male college students is equal to or less than the average weight of female college students.\n",
    "\n",
    "Alternative hypothesis (H1): The average weight of male college students is greater than the average weight of female college students.\n",
    "\"\"\""
   ]
  },
  {
   "cell_type": "code",
   "execution_count": 9,
   "id": "55b2bfe3-33dd-4243-9a11-cdf05293e00b",
   "metadata": {},
   "outputs": [
    {
     "name": "stdout",
     "output_type": "stream",
     "text": [
      "Sample 1 mean: 67.9\n",
      "Sample 2 mean: 61.1\n",
      "T-value: 14.582000765773694\n",
      "P-value: 2.0664696984951523e-11\n",
      "Reject the null hypothesis.\n"
     ]
    }
   ],
   "source": [
    "\"\"\"Q5. Write a Python script to conduct a hypothesis test on the difference between two population means,\n",
    "given a sample from each population.\"\"\"\n",
    "\n",
    "import scipy.stats as stats\n",
    "\n",
    "# Define the samples (replace with your own data)\n",
    "sample1 = [63, 67, 71, 70, 68, 66, 72, 68, 69, 65]\n",
    "sample2 = [58, 62, 60, 65, 63, 61, 59, 57, 64, 62]\n",
    "\n",
    "# Set the significance level (alpha)\n",
    "alpha = 0.05\n",
    "\n",
    "# Calculate the sample statistics\n",
    "mean1 = sum(sample1) / len(sample1)\n",
    "mean2 = sum(sample2) / len(sample2)\n",
    "std_dev1 = stats.gstd(sample1)\n",
    "std_dev2 = stats.gstd(sample2)\n",
    "n1 = len(sample1)\n",
    "n2 = len(sample2)\n",
    "\n",
    "# Calculate the degrees of freedom and the t-value\n",
    "df = n1 + n2 - 2\n",
    "t_value = (mean1 - mean2) / (math.sqrt(((n1 - 1) * std_dev1 ** 2 + (n2 - 1) * std_dev2 ** 2) / df) * math.sqrt(1 / n1 + 1 / n2))\n",
    "\n",
    "# Calculate the p-value\n",
    "p_value = stats.t.sf(abs(t_value), df) * 2\n",
    "\n",
    "# Print the results\n",
    "print(f\"Sample 1 mean: {mean1}\")\n",
    "print(f\"Sample 2 mean: {mean2}\")\n",
    "print(f\"T-value: {t_value}\")\n",
    "print(f\"P-value: {p_value}\")\n",
    "\n",
    "# Determine whether to reject the null hypothesis\n",
    "if p_value < alpha:\n",
    "    print(\"Reject the null hypothesis.\")\n",
    "else:\n",
    "    print(\"Fail to reject the null hypothesis.\")"
   ]
  },
  {
   "cell_type": "code",
   "execution_count": null,
   "id": "7e100833-9056-4dd8-8222-00e35d2a1b95",
   "metadata": {},
   "outputs": [],
   "source": [
    "\"\"\"Q6: What is a null and alternative hypothesis? Give some examples.\n",
    "\n",
    "    Ans: The null hypothesis is a statement that there is no significant difference between two groups or variables, while the alternative \n",
    "         hypothesis is a statement that there is a significant difference.\n",
    "         For example, a null hypothesis could be that there is no difference in average height between male and female students in a school, \n",
    "         while the alternative hypothesis could be that male students are taller on average than female students.\n",
    "         Another example could be a null hypothesis that a new drug has no effect on reducing blood pressure, while the alternative hypothesis \n",
    "         could be that the drug does lower blood pressure significantly.\n",
    "\"\"\""
   ]
  },
  {
   "cell_type": "code",
   "execution_count": null,
   "id": "01c66b01-5bff-4d36-b90a-e882310005d6",
   "metadata": {},
   "outputs": [],
   "source": [
    "\"\"\"Q7: Write down the steps involved in hypothesis testing.\n",
    "\n",
    "    Ans: Hypothesis testing involves the following steps:\n",
    "            1. Formulate a null and alternative hypothesis based on the research question.\n",
    "            2. Choose an appropriate statistical test based on the hypothesis and the type of data.\n",
    "            3. Set a significance level (alpha) to determine how much evidence is needed to reject the null hypothesis.\n",
    "            4. Collect data and calculate a test statistic and a corresponding p-value.\n",
    "            5. Compare the p-value to the significance level, and determine whether to reject or fail to reject the null hypothesis.\n",
    "            6. Interpret the results and draw conclusions based on the findings.\n",
    "\"\"\""
   ]
  },
  {
   "cell_type": "code",
   "execution_count": null,
   "id": "98da1f49-f15b-4b76-a708-0e591216bea2",
   "metadata": {},
   "outputs": [],
   "source": [
    "\"\"\"Q8. Define p-value and explain its significance in hypothesis testing.\n",
    "\n",
    "    Ans: The p-value is a measure of the strength of evidence against the null hypothesis in hypothesis testing. It represents the probability of observing a test \n",
    "         statistic as extreme or more extreme than the one observed, assuming the null hypothesis is true. If the p-value is less than the significance level (usually 0.05), it \n",
    "         is considered significant and we reject the null hypothesis in favor of the alternative hypothesis. A higher p-value means weaker evidence against the null hypothesis.\n",
    "\"\"\""
   ]
  },
  {
   "cell_type": "code",
   "execution_count": 23,
   "id": "fffa5cf8-c35c-43e6-a290-4c7ca7c03a1c",
   "metadata": {},
   "outputs": [
    {
     "data": {
      "image/png": "[encoded data removed]",
      "text/plain": [
       "<Figure size 640x480 with 1 Axes>"
      ]
     },
     "metadata": {},
     "output_type": "display_data"
    }
   ],
   "source": [
    "\"\"\"Q9. Generate a Student's t-distribution plot using Python's matplotlib library, with the degrees of freedom parameter set to 10.\"\"\"\n",
    "\n",
    "import numpy as np\n",
    "import matplotlib.pyplot as plt\n",
    "from scipy.stats import t\n",
    "\n",
    "df = 10\n",
    "\n",
    "x = np.linspace(-5, 5, num=100)\n",
    "\n",
    "y = t.pdf(x, df)\n",
    "\n",
    "plt.plot(x, y, label='t-distribution with df={}'.format(df))\n",
    "plt.legend()\n",
    "plt.show()"
   ]
  },
  {
   "cell_type": "code",
   "execution_count": 38,
   "id": "5c7daddd-cea2-46e5-bb22-b5a98eb66363",
   "metadata": {},
   "outputs": [
    {
     "name": "stdout",
     "output_type": "stream",
     "text": [
      "t-statistic: -5.850757253936374\n",
      "p-value: 6.481859512170975e-08\n",
      "Reject the null hypothesis.\n"
     ]
    }
   ],
   "source": [
    "\"\"\"Q10. Write a Python program to calculate the two-sample t-test for independent samples, given two\n",
    "random samples of equal size and a null hypothesis that the population means are equal.\"\"\"\n",
    "\n",
    "import numpy as np\n",
    "from scipy.stats import ttest_ind\n",
    "\n",
    "alpha = 0.05\n",
    "\n",
    "sample1 = np.random.normal(10, 2, size=50)\n",
    "sample2 = np.random.normal(12, 2, size=50)\n",
    "\n",
    "t_statistic, p_value = ttest_ind(sample1, sample2)\n",
    "\n",
    "print(\"t-statistic:\", t_statistic)\n",
    "print(\"p-value:\", p_value)\n",
    "\n",
    "if p_value < alpha:\n",
    "    print(\"Reject the null hypothesis.\")\n",
    "else:\n",
    "    print(\"Fail to reject the null hypothesis.\")\n"
   ]
  },
  {
   "cell_type": "code",
   "execution_count": null,
   "id": "3115284f-b195-4c04-832a-6bb6cde0bf13",
   "metadata": {},
   "outputs": [],
   "source": [
    "\"\"\"Q11: What is Student’s t distribution? When to use the t-Distribution.\n",
    "\n",
    "    Ans: Student's t-distribution is a statistical distribution that is used to estimate the population mean when the sample size is small or the \n",
    "         population standard deviation is unknown. It is similar to the normal distribution, but with wider tails that account for the additional \n",
    "         uncertainty due to small sample sizes.\n",
    "         The t-distribution is used in hypothesis testing to calculate a t-statistic, which measures the difference between the sample mean and the population mean \n",
    "         in units of the standard error. The t-distribution is also used in confidence interval estimation to calculate the range of values within which the population \n",
    "         mean is likely to lie with a specified level of confidence. In general, the t-distribution is used when the sample size is small, and the population standard deviation \n",
    "         is unknown.\n",
    "\"\"\""
   ]
  },
  {
   "cell_type": "code",
   "execution_count": null,
   "id": "5b3983fa-6d3d-4983-8e8b-c215f0fee15d",
   "metadata": {},
   "outputs": [],
   "source": [
    "\"\"\"Q12: What is t-statistic? State the formula for t-statistic.\n",
    "\n",
    "    Ans: The t-statistic is a measure of how many standard errors the sample mean is away from the hypothesized population mean. \n",
    "    It is used in hypothesis testing to determine whether the difference between the sample mean and the population mean is statistically significant.\n",
    "    The formula for t-statistic is: t = (sample mean - population mean) / (standard error of the mean)\n",
    "\"\"\""
   ]
  },
  {
   "cell_type": "code",
   "execution_count": null,
   "id": "bd7c7f12-5d9c-43c6-92f7-8bbc7a71ef95",
   "metadata": {},
   "outputs": [],
   "source": [
    "\"\"\"Q13. A coffee shop owner wants to estimate the average daily revenue for their shop. They take a random\n",
    "sample of 50 days and find the sample mean revenue to be $500 with a standard deviation of $50.\n",
    "Estimate the population mean revenue with a 95% confidence interval.\n",
    "\n",
    "Ans: n = 50, sample_mean = 500, std = 50, alpha = 0.05\n",
    "    from Z-table we get 1.96\n",
    "    formula for confidence interval is (sample_mean +- (1.96) * (std/sqrt(n)))\n",
    "    upper bound of confidence interval is (500 + 1.96 * (50/sqrt(50)) is 513.86.\n",
    "    lower bound of confidence interval is (500 - 1.96 * (50/sqrt(50)) is 486.14.\n",
    "\"\"\""
   ]
  },
  {
   "cell_type": "code",
   "execution_count": null,
   "id": "2b548f3c-fdbd-44e3-a421-98d00ff9aa3b",
   "metadata": {},
   "outputs": [],
   "source": [
    "\"\"\"Q14. A researcher hypothesizes that a new drug will decrease blood pressure by 10 mmHg. They conduct a\n",
    "clinical trial with 100 patients and find that the sample mean decrease in blood pressure is 8 mmHg with a\n",
    "standard deviation of 3 mmHg. Test the hypothesis with a significance level of 0.05.\n",
    "\n",
    "Ans: mean = 10, x = 8, n = 100, std = 3, alpha = 0.05\n",
    "     H0 : mean = 10\n",
    "     H1 : mean < 10 (one-tailed test)\n",
    "     alpha = 0.05\n",
    "     df = 100 - 1 = 99\n",
    "     from t-table after using df, alpha and one-tailed test we get [-1.660, +1.660]\n",
    "     we calculated t-value from formula (x - mean)/(std/sqrt(n))\n",
    "     t = (8-10)/(3/sqrt(100)) = -6.667\n",
    "     since t(-6.667) < -1.660 we reject the Null Hypothesis, so mean is less than 10.\n",
    "\"\"\""
   ]
  },
  {
   "cell_type": "code",
   "execution_count": null,
   "id": "020073b7-8efa-4f45-9d26-acdc7a8b97d5",
   "metadata": {},
   "outputs": [],
   "source": [
    "\"\"\"Q15. An electronics company produces a certain type of product with a mean weight of 5 pounds and a\n",
    "standard deviation of 0.5 pounds. A random sample of 25 products is taken, and the sample mean weight\n",
    "is found to be 4.8 pounds. Test the hypothesis that the true mean weight of the products is less than 5\n",
    "pounds with a significance level of 0.01.\n",
    "\n",
    "    Ans: mean = 5, x = 4.8, n = 25, std = 0.5, alpha = 0.01\n",
    "     H0 : mean = 5\n",
    "     H1 : mean < 5 (one-tailed test)\n",
    "     alpha = 0.01\n",
    "     df = 25 - 1 = 24\n",
    "     from t-table after using df, alpha and one-tailed test we get [-2.492, +2.492]\n",
    "     we calculated t-value from formula (x - mean)/(std/sqrt(n))\n",
    "     t = (4.8-5)/(0.5/sqrt(25)) = -2.0\n",
    "     since t(-2.0) > -2.492 we fail to reject the Null Hypothesis, so mean is 5.\n",
    "\"\"\""
   ]
  },
  {
   "cell_type": "code",
   "execution_count": null,
   "id": "8a77772f-07bd-448c-a8b1-aec24fe3b325",
   "metadata": {},
   "outputs": [],
   "source": [
    "\"\"\"Q16. Two groups of students are given different study materials to prepare for a test. The first group (n1 = 30) \n",
    "has a mean score of 80 with a standard deviation of 10, and the second group (n2 = 40) has a mean\n",
    "score of 75 with a standard deviation of 8. Test the hypothesis that the population means for the two\n",
    "groups are equal with a significance level of 0.01.\n",
    "\n",
    "Ans: x1 = 80, s1 = 10, n1 = 30, x2 = 75, s2 = 8, n2 = 40, alpha = 0.01\n",
    "     H0 : x1 = x2\n",
    "     H1 : x1 != x2\n",
    "     alpha = 0.01\n",
    "     sample mean difference = 80 - 75 = 5\n",
    "     standard error = sqrt(s1^2/n1 + s2^2/n2)\n",
    "     SE = sqrt((10^2/30) + (8^2/40)) = 2.401\n",
    "     t = (sample mean difference - hypothesized mean difference) / (standard error of the difference)\n",
    "     t = (5 - 0)/(2.401) = 2.082\n",
    "     \n",
    "     from t-table we get ±2.660.\n",
    "     \n",
    "     since t(2.082) < 2.660 : so we fail to reject the Null Hypothesis so, x1 = x2.\n",
    "\"\"\""
   ]
  },
  {
   "cell_type": "code",
   "execution_count": null,
   "id": "393a5fd3-e2c6-47f2-87a8-d881ee78c86c",
   "metadata": {},
   "outputs": [],
   "source": [
    "\"\"\"Q17. A marketing company wants to estimate the average number of ads watched by viewers during a TV\n",
    "program. They take a random sample of 50 viewers and find that the sample mean is 4 with a standard\n",
    "deviation of 1.5. Estimate the population mean with a 99% confidence interval.\n",
    "\n",
    "Ans: \n",
    "     CI = sample mean ± margin of error\n",
    "     df = 50 - 1 = 49\n",
    "     alpha = 0.01\n",
    "     so to calculate critical value we use t-table with df, alpha, and two tailed test, critical value = 2.576 \n",
    "     margin of error = critical value * (std/ sqrt(n))\n",
    "     margin of error = 2.576 * (1.5/sqrt(50)) = 0.538\n",
    "     \n",
    "     CI = 4 ± 0.538\n",
    "     CI = (3.462, 4.538)\n",
    "     We can interpret this result as follows: we are 99% confident that the true population mean number of ads watched by viewers during a TV program \n",
    "     falls within the interval of (3.462, 4.538) based on the given sample data.\n",
    "     \n",
    "\"\"\""
   ]
  }
 ],
 "metadata": {
  "kernelspec": {
   "display_name": "Python 3 (ipykernel)",
   "language": "python",
   "name": "python3"
  },
  "language_info": {
   "codemirror_mode": {
    "name": "ipython",
    "version": 3
   },
   "file_extension": ".py",
   "mimetype": "text/x-python",
   "name": "python",
   "nbconvert_exporter": "python",
   "pygments_lexer": "ipython3",
   "version": "3.10.8"
  }
 },
 "nbformat": 4,
 "nbformat_minor": 5
}
